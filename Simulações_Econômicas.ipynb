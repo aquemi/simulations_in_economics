{
  "nbformat": 4,
  "nbformat_minor": 0,
  "metadata": {
    "colab": {
      "provenance": [],
      "authorship_tag": "ABX9TyMPs5TRqnEG1etVmsg28IEn",
      "include_colab_link": true
    },
    "kernelspec": {
      "name": "python3",
      "display_name": "Python 3"
    },
    "language_info": {
      "name": "python"
    }
  },
  "cells": [
    {
      "cell_type": "markdown",
      "metadata": {
        "id": "view-in-github",
        "colab_type": "text"
      },
      "source": [
        "<a href=\"https://colab.research.google.com/github/aquemi/simulations_in_economics/blob/main/Simula%C3%A7%C3%B5es_Econ%C3%B4micas.ipynb\" target=\"_parent\"><img src=\"https://colab.research.google.com/assets/colab-badge.svg\" alt=\"Open In Colab\"/></a>"
      ]
    },
    {
      "cell_type": "markdown",
      "source": [
        "Input File Columns\n",
        "\n",
        "● initial_age: the age the person had when this the simulation started\n",
        "\n",
        "● weight: How many persons of the population this head of household\n",
        "represent\n",
        "\n",
        "● income: The annual gross income of the individual.\n",
        "\n",
        "● family_kind: 1 = Husband-Wife, 2 = Male-Led, 3 = Female-Led\n",
        "\n",
        "● race: 1= White, 2 = Black, 3 = Hispanic, 4 = Other\n",
        "\n",
        "● marital_status : 1 = Married, 2 = Widowed, 3 = Divorced, 4 = Separated, 5 =\n",
        "Never married\n",
        "\n",
        "● annual_contribution (as % of income): What % of the current income the\n",
        "individuals contribute to retirement accounts\n",
        "\n",
        "● accumulated_capital: At this person’s death, the resulting balance\n",
        "considering all its incomes and expenses, in 2020 US dollars. If it is greater\n",
        "than or equal zero, it means this person was able to afford his retirement, if\n",
        "it is lower than zero, it means"
      ],
      "metadata": {
        "id": "u1kKsoZprmev"
      }
    },
    {
      "cell_type": "code",
      "execution_count": 1,
      "metadata": {
        "colab": {
          "base_uri": "https://localhost:8080/"
        },
        "id": "YkjK4YIio6M-",
        "outputId": "007c58da-fe07-479e-8b22-abe4519602fb"
      },
      "outputs": [
        {
          "output_type": "stream",
          "name": "stdout",
          "text": [
            "Mounted at /content/drive/\n"
          ]
        }
      ],
      "source": [
        "from google.colab import drive\n",
        "drive.mount('/content/drive/',force_remount=True)"
      ]
    },
    {
      "cell_type": "markdown",
      "source": [
        "Import useful libraries: pandas and numpy"
      ],
      "metadata": {
        "id": "J_Rx9nJRinI4"
      }
    },
    {
      "cell_type": "code",
      "source": [
        "import pandas as pd\n",
        "import numpy as np"
      ],
      "metadata": {
        "id": "gAvEOQyRsRHU"
      },
      "execution_count": 2,
      "outputs": []
    },
    {
      "cell_type": "code",
      "source": [
        "data = pd.read_csv('/content/drive/MyDrive/Colab Notebooks/saving/data.csv')"
      ],
      "metadata": {
        "id": "yggGRB3zsSYQ"
      },
      "execution_count": 3,
      "outputs": []
    },
    {
      "cell_type": "code",
      "source": [
        "data.head(2)"
      ],
      "metadata": {
        "colab": {
          "base_uri": "https://localhost:8080/",
          "height": 112
        },
        "id": "wSYI9VfVscKk",
        "outputId": "c9cdc54f-f262-4f63-fa53-a1e22ad25ec3"
      },
      "execution_count": 4,
      "outputs": [
        {
          "output_type": "execute_result",
          "data": {
            "text/plain": [
              "   Unnamed: 0  initial_age  weight  family_kind  race  marital_status  \\\n",
              "0           0           57     616            2     1               3   \n",
              "1           1           45     591            1     1               1   \n",
              "\n",
              "   accumulated_capital  annual_contribution     income  \n",
              "0       -153263.200759                 0.23   42658.02  \n",
              "1        161474.307306                 0.24  248327.61  "
            ],
            "text/html": [
              "\n",
              "  <div id=\"df-2112ed32-9a33-48ae-90fd-309ec966ccaf\">\n",
              "    <div class=\"colab-df-container\">\n",
              "      <div>\n",
              "<style scoped>\n",
              "    .dataframe tbody tr th:only-of-type {\n",
              "        vertical-align: middle;\n",
              "    }\n",
              "\n",
              "    .dataframe tbody tr th {\n",
              "        vertical-align: top;\n",
              "    }\n",
              "\n",
              "    .dataframe thead th {\n",
              "        text-align: right;\n",
              "    }\n",
              "</style>\n",
              "<table border=\"1\" class=\"dataframe\">\n",
              "  <thead>\n",
              "    <tr style=\"text-align: right;\">\n",
              "      <th></th>\n",
              "      <th>Unnamed: 0</th>\n",
              "      <th>initial_age</th>\n",
              "      <th>weight</th>\n",
              "      <th>family_kind</th>\n",
              "      <th>race</th>\n",
              "      <th>marital_status</th>\n",
              "      <th>accumulated_capital</th>\n",
              "      <th>annual_contribution</th>\n",
              "      <th>income</th>\n",
              "    </tr>\n",
              "  </thead>\n",
              "  <tbody>\n",
              "    <tr>\n",
              "      <th>0</th>\n",
              "      <td>0</td>\n",
              "      <td>57</td>\n",
              "      <td>616</td>\n",
              "      <td>2</td>\n",
              "      <td>1</td>\n",
              "      <td>3</td>\n",
              "      <td>-153263.200759</td>\n",
              "      <td>0.23</td>\n",
              "      <td>42658.02</td>\n",
              "    </tr>\n",
              "    <tr>\n",
              "      <th>1</th>\n",
              "      <td>1</td>\n",
              "      <td>45</td>\n",
              "      <td>591</td>\n",
              "      <td>1</td>\n",
              "      <td>1</td>\n",
              "      <td>1</td>\n",
              "      <td>161474.307306</td>\n",
              "      <td>0.24</td>\n",
              "      <td>248327.61</td>\n",
              "    </tr>\n",
              "  </tbody>\n",
              "</table>\n",
              "</div>\n",
              "      <button class=\"colab-df-convert\" onclick=\"convertToInteractive('df-2112ed32-9a33-48ae-90fd-309ec966ccaf')\"\n",
              "              title=\"Convert this dataframe to an interactive table.\"\n",
              "              style=\"display:none;\">\n",
              "        \n",
              "  <svg xmlns=\"http://www.w3.org/2000/svg\" height=\"24px\"viewBox=\"0 0 24 24\"\n",
              "       width=\"24px\">\n",
              "    <path d=\"M0 0h24v24H0V0z\" fill=\"none\"/>\n",
              "    <path d=\"M18.56 5.44l.94 2.06.94-2.06 2.06-.94-2.06-.94-.94-2.06-.94 2.06-2.06.94zm-11 1L8.5 8.5l.94-2.06 2.06-.94-2.06-.94L8.5 2.5l-.94 2.06-2.06.94zm10 10l.94 2.06.94-2.06 2.06-.94-2.06-.94-.94-2.06-.94 2.06-2.06.94z\"/><path d=\"M17.41 7.96l-1.37-1.37c-.4-.4-.92-.59-1.43-.59-.52 0-1.04.2-1.43.59L10.3 9.45l-7.72 7.72c-.78.78-.78 2.05 0 2.83L4 21.41c.39.39.9.59 1.41.59.51 0 1.02-.2 1.41-.59l7.78-7.78 2.81-2.81c.8-.78.8-2.07 0-2.86zM5.41 20L4 18.59l7.72-7.72 1.47 1.35L5.41 20z\"/>\n",
              "  </svg>\n",
              "      </button>\n",
              "      \n",
              "  <style>\n",
              "    .colab-df-container {\n",
              "      display:flex;\n",
              "      flex-wrap:wrap;\n",
              "      gap: 12px;\n",
              "    }\n",
              "\n",
              "    .colab-df-convert {\n",
              "      background-color: #E8F0FE;\n",
              "      border: none;\n",
              "      border-radius: 50%;\n",
              "      cursor: pointer;\n",
              "      display: none;\n",
              "      fill: #1967D2;\n",
              "      height: 32px;\n",
              "      padding: 0 0 0 0;\n",
              "      width: 32px;\n",
              "    }\n",
              "\n",
              "    .colab-df-convert:hover {\n",
              "      background-color: #E2EBFA;\n",
              "      box-shadow: 0px 1px 2px rgba(60, 64, 67, 0.3), 0px 1px 3px 1px rgba(60, 64, 67, 0.15);\n",
              "      fill: #174EA6;\n",
              "    }\n",
              "\n",
              "    [theme=dark] .colab-df-convert {\n",
              "      background-color: #3B4455;\n",
              "      fill: #D2E3FC;\n",
              "    }\n",
              "\n",
              "    [theme=dark] .colab-df-convert:hover {\n",
              "      background-color: #434B5C;\n",
              "      box-shadow: 0px 1px 3px 1px rgba(0, 0, 0, 0.15);\n",
              "      filter: drop-shadow(0px 1px 2px rgba(0, 0, 0, 0.3));\n",
              "      fill: #FFFFFF;\n",
              "    }\n",
              "  </style>\n",
              "\n",
              "      <script>\n",
              "        const buttonEl =\n",
              "          document.querySelector('#df-2112ed32-9a33-48ae-90fd-309ec966ccaf button.colab-df-convert');\n",
              "        buttonEl.style.display =\n",
              "          google.colab.kernel.accessAllowed ? 'block' : 'none';\n",
              "\n",
              "        async function convertToInteractive(key) {\n",
              "          const element = document.querySelector('#df-2112ed32-9a33-48ae-90fd-309ec966ccaf');\n",
              "          const dataTable =\n",
              "            await google.colab.kernel.invokeFunction('convertToInteractive',\n",
              "                                                     [key], {});\n",
              "          if (!dataTable) return;\n",
              "\n",
              "          const docLinkHtml = 'Like what you see? Visit the ' +\n",
              "            '<a target=\"_blank\" href=https://colab.research.google.com/notebooks/data_table.ipynb>data table notebook</a>'\n",
              "            + ' to learn more about interactive tables.';\n",
              "          element.innerHTML = '';\n",
              "          dataTable['output_type'] = 'display_data';\n",
              "          await google.colab.output.renderOutput(dataTable, element);\n",
              "          const docLink = document.createElement('div');\n",
              "          docLink.innerHTML = docLinkHtml;\n",
              "          element.appendChild(docLink);\n",
              "        }\n",
              "      </script>\n",
              "    </div>\n",
              "  </div>\n",
              "  "
            ]
          },
          "metadata": {},
          "execution_count": 4
        }
      ]
    },
    {
      "cell_type": "code",
      "source": [
        "data.dtypes"
      ],
      "metadata": {
        "colab": {
          "base_uri": "https://localhost:8080/"
        },
        "id": "JFJZ0jXosoXF",
        "outputId": "398504c5-fb97-4324-ae26-6116de50786f"
      },
      "execution_count": 5,
      "outputs": [
        {
          "output_type": "execute_result",
          "data": {
            "text/plain": [
              "Unnamed: 0               int64\n",
              "initial_age              int64\n",
              "weight                   int64\n",
              "family_kind              int64\n",
              "race                     int64\n",
              "marital_status           int64\n",
              "accumulated_capital    float64\n",
              "annual_contribution    float64\n",
              "income                 float64\n",
              "dtype: object"
            ]
          },
          "metadata": {},
          "execution_count": 5
        }
      ]
    },
    {
      "cell_type": "code",
      "source": [
        "data['annual_contribution_us'] = data['income']*data['annual_contribution']\n",
        "data['time_contribution'] = 65 - data['initial_age']"
      ],
      "metadata": {
        "id": "evoUGeOcsj89"
      },
      "execution_count": 7,
      "outputs": []
    },
    {
      "cell_type": "code",
      "source": [
        "data.head(2)"
      ],
      "metadata": {
        "colab": {
          "base_uri": "https://localhost:8080/",
          "height": 112
        },
        "id": "l8ZNHEDoxeHM",
        "outputId": "789cd1b6-730d-48e7-8ec9-fd182d17d210"
      },
      "execution_count": 8,
      "outputs": [
        {
          "output_type": "execute_result",
          "data": {
            "text/plain": [
              "   Unnamed: 0  initial_age  weight  family_kind  race  marital_status  \\\n",
              "0           0           57     616            2     1               3   \n",
              "1           1           45     591            1     1               1   \n",
              "\n",
              "   accumulated_capital  annual_contribution     income  time_contribution  \\\n",
              "0       -153263.200759                 0.23   42658.02                  8   \n",
              "1        161474.307306                 0.24  248327.61                 20   \n",
              "\n",
              "   annual_contribution_us  \n",
              "0               9811.3446  \n",
              "1              59598.6264  "
            ],
            "text/html": [
              "\n",
              "  <div id=\"df-b73a2536-4ec2-4728-a88c-357b702be739\">\n",
              "    <div class=\"colab-df-container\">\n",
              "      <div>\n",
              "<style scoped>\n",
              "    .dataframe tbody tr th:only-of-type {\n",
              "        vertical-align: middle;\n",
              "    }\n",
              "\n",
              "    .dataframe tbody tr th {\n",
              "        vertical-align: top;\n",
              "    }\n",
              "\n",
              "    .dataframe thead th {\n",
              "        text-align: right;\n",
              "    }\n",
              "</style>\n",
              "<table border=\"1\" class=\"dataframe\">\n",
              "  <thead>\n",
              "    <tr style=\"text-align: right;\">\n",
              "      <th></th>\n",
              "      <th>Unnamed: 0</th>\n",
              "      <th>initial_age</th>\n",
              "      <th>weight</th>\n",
              "      <th>family_kind</th>\n",
              "      <th>race</th>\n",
              "      <th>marital_status</th>\n",
              "      <th>accumulated_capital</th>\n",
              "      <th>annual_contribution</th>\n",
              "      <th>income</th>\n",
              "      <th>time_contribution</th>\n",
              "      <th>annual_contribution_us</th>\n",
              "    </tr>\n",
              "  </thead>\n",
              "  <tbody>\n",
              "    <tr>\n",
              "      <th>0</th>\n",
              "      <td>0</td>\n",
              "      <td>57</td>\n",
              "      <td>616</td>\n",
              "      <td>2</td>\n",
              "      <td>1</td>\n",
              "      <td>3</td>\n",
              "      <td>-153263.200759</td>\n",
              "      <td>0.23</td>\n",
              "      <td>42658.02</td>\n",
              "      <td>8</td>\n",
              "      <td>9811.3446</td>\n",
              "    </tr>\n",
              "    <tr>\n",
              "      <th>1</th>\n",
              "      <td>1</td>\n",
              "      <td>45</td>\n",
              "      <td>591</td>\n",
              "      <td>1</td>\n",
              "      <td>1</td>\n",
              "      <td>1</td>\n",
              "      <td>161474.307306</td>\n",
              "      <td>0.24</td>\n",
              "      <td>248327.61</td>\n",
              "      <td>20</td>\n",
              "      <td>59598.6264</td>\n",
              "    </tr>\n",
              "  </tbody>\n",
              "</table>\n",
              "</div>\n",
              "      <button class=\"colab-df-convert\" onclick=\"convertToInteractive('df-b73a2536-4ec2-4728-a88c-357b702be739')\"\n",
              "              title=\"Convert this dataframe to an interactive table.\"\n",
              "              style=\"display:none;\">\n",
              "        \n",
              "  <svg xmlns=\"http://www.w3.org/2000/svg\" height=\"24px\"viewBox=\"0 0 24 24\"\n",
              "       width=\"24px\">\n",
              "    <path d=\"M0 0h24v24H0V0z\" fill=\"none\"/>\n",
              "    <path d=\"M18.56 5.44l.94 2.06.94-2.06 2.06-.94-2.06-.94-.94-2.06-.94 2.06-2.06.94zm-11 1L8.5 8.5l.94-2.06 2.06-.94-2.06-.94L8.5 2.5l-.94 2.06-2.06.94zm10 10l.94 2.06.94-2.06 2.06-.94-2.06-.94-.94-2.06-.94 2.06-2.06.94z\"/><path d=\"M17.41 7.96l-1.37-1.37c-.4-.4-.92-.59-1.43-.59-.52 0-1.04.2-1.43.59L10.3 9.45l-7.72 7.72c-.78.78-.78 2.05 0 2.83L4 21.41c.39.39.9.59 1.41.59.51 0 1.02-.2 1.41-.59l7.78-7.78 2.81-2.81c.8-.78.8-2.07 0-2.86zM5.41 20L4 18.59l7.72-7.72 1.47 1.35L5.41 20z\"/>\n",
              "  </svg>\n",
              "      </button>\n",
              "      \n",
              "  <style>\n",
              "    .colab-df-container {\n",
              "      display:flex;\n",
              "      flex-wrap:wrap;\n",
              "      gap: 12px;\n",
              "    }\n",
              "\n",
              "    .colab-df-convert {\n",
              "      background-color: #E8F0FE;\n",
              "      border: none;\n",
              "      border-radius: 50%;\n",
              "      cursor: pointer;\n",
              "      display: none;\n",
              "      fill: #1967D2;\n",
              "      height: 32px;\n",
              "      padding: 0 0 0 0;\n",
              "      width: 32px;\n",
              "    }\n",
              "\n",
              "    .colab-df-convert:hover {\n",
              "      background-color: #E2EBFA;\n",
              "      box-shadow: 0px 1px 2px rgba(60, 64, 67, 0.3), 0px 1px 3px 1px rgba(60, 64, 67, 0.15);\n",
              "      fill: #174EA6;\n",
              "    }\n",
              "\n",
              "    [theme=dark] .colab-df-convert {\n",
              "      background-color: #3B4455;\n",
              "      fill: #D2E3FC;\n",
              "    }\n",
              "\n",
              "    [theme=dark] .colab-df-convert:hover {\n",
              "      background-color: #434B5C;\n",
              "      box-shadow: 0px 1px 3px 1px rgba(0, 0, 0, 0.15);\n",
              "      filter: drop-shadow(0px 1px 2px rgba(0, 0, 0, 0.3));\n",
              "      fill: #FFFFFF;\n",
              "    }\n",
              "  </style>\n",
              "\n",
              "      <script>\n",
              "        const buttonEl =\n",
              "          document.querySelector('#df-b73a2536-4ec2-4728-a88c-357b702be739 button.colab-df-convert');\n",
              "        buttonEl.style.display =\n",
              "          google.colab.kernel.accessAllowed ? 'block' : 'none';\n",
              "\n",
              "        async function convertToInteractive(key) {\n",
              "          const element = document.querySelector('#df-b73a2536-4ec2-4728-a88c-357b702be739');\n",
              "          const dataTable =\n",
              "            await google.colab.kernel.invokeFunction('convertToInteractive',\n",
              "                                                     [key], {});\n",
              "          if (!dataTable) return;\n",
              "\n",
              "          const docLinkHtml = 'Like what you see? Visit the ' +\n",
              "            '<a target=\"_blank\" href=https://colab.research.google.com/notebooks/data_table.ipynb>data table notebook</a>'\n",
              "            + ' to learn more about interactive tables.';\n",
              "          element.innerHTML = '';\n",
              "          dataTable['output_type'] = 'display_data';\n",
              "          await google.colab.output.renderOutput(dataTable, element);\n",
              "          const docLink = document.createElement('div');\n",
              "          docLink.innerHTML = docLinkHtml;\n",
              "          element.appendChild(docLink);\n",
              "        }\n",
              "      </script>\n",
              "    </div>\n",
              "  </div>\n",
              "  "
            ]
          },
          "metadata": {},
          "execution_count": 8
        }
      ]
    },
    {
      "cell_type": "markdown",
      "source": [
        "#### In order to determine the savings match for each line in the table, let's consider the Retirement Savings Contributions Credit (2020) from IRS, an official website of the United States Government."
      ],
      "metadata": {
        "id": "_e3te46LRbnO"
      }
    },
    {
      "cell_type": "markdown",
      "source": [
        "![savers_credit.PNG](data:image/png;base64,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)"
      ],
      "metadata": {
        "id": "qy4XURu8x007"
      }
    },
    {
      "cell_type": "code",
      "source": [
        "for index, row in data.iterrows():\n",
        "  if row.family_kind != 1:\n",
        "    if row.income <= 29250:\n",
        "      data.loc[index, 'savings_match'] = 0.5*row.annual_contribution_us\n",
        "    elif row.income >= 29251 and row.income <= 31875:\n",
        "      data.loc[index, 'savings_match'] = 0.2*row.annual_contribution_us\n",
        "    elif row.income >= 31876 and row.income <= 48750:\n",
        "      data.loc[index, 'savings_match'] = 0.1*row.annual_contribution_us\n",
        "    else:\n",
        "      data.loc[index, 'savings_match'] = 0\n",
        "  else:\n",
        "    if row.income <= 39000:\n",
        "      data.loc[index, 'savings_match'] = 0.5*row.annual_contribution_us\n",
        "    elif row.income >= 39001 and row.income <= 42500:\n",
        "      data.loc[index, 'savings_match'] = 0.2*row.annual_contribution_us\n",
        "    elif row.income >= 42501 and row.income <= 65000:\n",
        "      data.loc[index, 'savings_match'] = 0.1*row.annual_contribution_us\n",
        "    else:\n",
        "      data.loc[index, 'savings_match'] = 0"
      ],
      "metadata": {
        "id": "goouOCFKyf33"
      },
      "execution_count": 9,
      "outputs": []
    },
    {
      "cell_type": "code",
      "source": [
        "for index, row in data.iterrows():\n",
        "  if row.savings_match > 5000:\n",
        "      data.loc[index, 'savings_match'] = 5000"
      ],
      "metadata": {
        "id": "L7LizL-PRx63"
      },
      "execution_count": 10,
      "outputs": []
    },
    {
      "cell_type": "code",
      "source": [
        "data.head(3)"
      ],
      "metadata": {
        "colab": {
          "base_uri": "https://localhost:8080/",
          "height": 205
        },
        "id": "iNCfGDMbyeS3",
        "outputId": "be21dc71-6791-4a28-cfc2-fc280761c034"
      },
      "execution_count": 11,
      "outputs": [
        {
          "output_type": "execute_result",
          "data": {
            "text/plain": [
              "   Unnamed: 0  initial_age  weight  family_kind  race  marital_status  \\\n",
              "0           0           57     616            2     1               3   \n",
              "1           1           45     591            1     1               1   \n",
              "2           2           59     613            1     1               1   \n",
              "\n",
              "   accumulated_capital  annual_contribution     income  time_contribution  \\\n",
              "0       -153263.200759                 0.23   42658.02                  8   \n",
              "1        161474.307306                 0.24  248327.61                 20   \n",
              "2         14209.331170                 0.09   24371.94                  6   \n",
              "\n",
              "   annual_contribution_us  savings_match  \n",
              "0               9811.3446      981.13446  \n",
              "1              59598.6264        0.00000  \n",
              "2               2193.4746     1096.73730  "
            ],
            "text/html": [
              "\n",
              "  <div id=\"df-2674fafb-b5ff-4b90-bece-5f371e7254b6\">\n",
              "    <div class=\"colab-df-container\">\n",
              "      <div>\n",
              "<style scoped>\n",
              "    .dataframe tbody tr th:only-of-type {\n",
              "        vertical-align: middle;\n",
              "    }\n",
              "\n",
              "    .dataframe tbody tr th {\n",
              "        vertical-align: top;\n",
              "    }\n",
              "\n",
              "    .dataframe thead th {\n",
              "        text-align: right;\n",
              "    }\n",
              "</style>\n",
              "<table border=\"1\" class=\"dataframe\">\n",
              "  <thead>\n",
              "    <tr style=\"text-align: right;\">\n",
              "      <th></th>\n",
              "      <th>Unnamed: 0</th>\n",
              "      <th>initial_age</th>\n",
              "      <th>weight</th>\n",
              "      <th>family_kind</th>\n",
              "      <th>race</th>\n",
              "      <th>marital_status</th>\n",
              "      <th>accumulated_capital</th>\n",
              "      <th>annual_contribution</th>\n",
              "      <th>income</th>\n",
              "      <th>time_contribution</th>\n",
              "      <th>annual_contribution_us</th>\n",
              "      <th>savings_match</th>\n",
              "    </tr>\n",
              "  </thead>\n",
              "  <tbody>\n",
              "    <tr>\n",
              "      <th>0</th>\n",
              "      <td>0</td>\n",
              "      <td>57</td>\n",
              "      <td>616</td>\n",
              "      <td>2</td>\n",
              "      <td>1</td>\n",
              "      <td>3</td>\n",
              "      <td>-153263.200759</td>\n",
              "      <td>0.23</td>\n",
              "      <td>42658.02</td>\n",
              "      <td>8</td>\n",
              "      <td>9811.3446</td>\n",
              "      <td>981.13446</td>\n",
              "    </tr>\n",
              "    <tr>\n",
              "      <th>1</th>\n",
              "      <td>1</td>\n",
              "      <td>45</td>\n",
              "      <td>591</td>\n",
              "      <td>1</td>\n",
              "      <td>1</td>\n",
              "      <td>1</td>\n",
              "      <td>161474.307306</td>\n",
              "      <td>0.24</td>\n",
              "      <td>248327.61</td>\n",
              "      <td>20</td>\n",
              "      <td>59598.6264</td>\n",
              "      <td>0.00000</td>\n",
              "    </tr>\n",
              "    <tr>\n",
              "      <th>2</th>\n",
              "      <td>2</td>\n",
              "      <td>59</td>\n",
              "      <td>613</td>\n",
              "      <td>1</td>\n",
              "      <td>1</td>\n",
              "      <td>1</td>\n",
              "      <td>14209.331170</td>\n",
              "      <td>0.09</td>\n",
              "      <td>24371.94</td>\n",
              "      <td>6</td>\n",
              "      <td>2193.4746</td>\n",
              "      <td>1096.73730</td>\n",
              "    </tr>\n",
              "  </tbody>\n",
              "</table>\n",
              "</div>\n",
              "      <button class=\"colab-df-convert\" onclick=\"convertToInteractive('df-2674fafb-b5ff-4b90-bece-5f371e7254b6')\"\n",
              "              title=\"Convert this dataframe to an interactive table.\"\n",
              "              style=\"display:none;\">\n",
              "        \n",
              "  <svg xmlns=\"http://www.w3.org/2000/svg\" height=\"24px\"viewBox=\"0 0 24 24\"\n",
              "       width=\"24px\">\n",
              "    <path d=\"M0 0h24v24H0V0z\" fill=\"none\"/>\n",
              "    <path d=\"M18.56 5.44l.94 2.06.94-2.06 2.06-.94-2.06-.94-.94-2.06-.94 2.06-2.06.94zm-11 1L8.5 8.5l.94-2.06 2.06-.94-2.06-.94L8.5 2.5l-.94 2.06-2.06.94zm10 10l.94 2.06.94-2.06 2.06-.94-2.06-.94-.94-2.06-.94 2.06-2.06.94z\"/><path d=\"M17.41 7.96l-1.37-1.37c-.4-.4-.92-.59-1.43-.59-.52 0-1.04.2-1.43.59L10.3 9.45l-7.72 7.72c-.78.78-.78 2.05 0 2.83L4 21.41c.39.39.9.59 1.41.59.51 0 1.02-.2 1.41-.59l7.78-7.78 2.81-2.81c.8-.78.8-2.07 0-2.86zM5.41 20L4 18.59l7.72-7.72 1.47 1.35L5.41 20z\"/>\n",
              "  </svg>\n",
              "      </button>\n",
              "      \n",
              "  <style>\n",
              "    .colab-df-container {\n",
              "      display:flex;\n",
              "      flex-wrap:wrap;\n",
              "      gap: 12px;\n",
              "    }\n",
              "\n",
              "    .colab-df-convert {\n",
              "      background-color: #E8F0FE;\n",
              "      border: none;\n",
              "      border-radius: 50%;\n",
              "      cursor: pointer;\n",
              "      display: none;\n",
              "      fill: #1967D2;\n",
              "      height: 32px;\n",
              "      padding: 0 0 0 0;\n",
              "      width: 32px;\n",
              "    }\n",
              "\n",
              "    .colab-df-convert:hover {\n",
              "      background-color: #E2EBFA;\n",
              "      box-shadow: 0px 1px 2px rgba(60, 64, 67, 0.3), 0px 1px 3px 1px rgba(60, 64, 67, 0.15);\n",
              "      fill: #174EA6;\n",
              "    }\n",
              "\n",
              "    [theme=dark] .colab-df-convert {\n",
              "      background-color: #3B4455;\n",
              "      fill: #D2E3FC;\n",
              "    }\n",
              "\n",
              "    [theme=dark] .colab-df-convert:hover {\n",
              "      background-color: #434B5C;\n",
              "      box-shadow: 0px 1px 3px 1px rgba(0, 0, 0, 0.15);\n",
              "      filter: drop-shadow(0px 1px 2px rgba(0, 0, 0, 0.3));\n",
              "      fill: #FFFFFF;\n",
              "    }\n",
              "  </style>\n",
              "\n",
              "      <script>\n",
              "        const buttonEl =\n",
              "          document.querySelector('#df-2674fafb-b5ff-4b90-bece-5f371e7254b6 button.colab-df-convert');\n",
              "        buttonEl.style.display =\n",
              "          google.colab.kernel.accessAllowed ? 'block' : 'none';\n",
              "\n",
              "        async function convertToInteractive(key) {\n",
              "          const element = document.querySelector('#df-2674fafb-b5ff-4b90-bece-5f371e7254b6');\n",
              "          const dataTable =\n",
              "            await google.colab.kernel.invokeFunction('convertToInteractive',\n",
              "                                                     [key], {});\n",
              "          if (!dataTable) return;\n",
              "\n",
              "          const docLinkHtml = 'Like what you see? Visit the ' +\n",
              "            '<a target=\"_blank\" href=https://colab.research.google.com/notebooks/data_table.ipynb>data table notebook</a>'\n",
              "            + ' to learn more about interactive tables.';\n",
              "          element.innerHTML = '';\n",
              "          dataTable['output_type'] = 'display_data';\n",
              "          await google.colab.output.renderOutput(dataTable, element);\n",
              "          const docLink = document.createElement('div');\n",
              "          docLink.innerHTML = docLinkHtml;\n",
              "          element.appendChild(docLink);\n",
              "        }\n",
              "      </script>\n",
              "    </div>\n",
              "  </div>\n",
              "  "
            ]
          },
          "metadata": {},
          "execution_count": 11
        }
      ]
    },
    {
      "cell_type": "markdown",
      "source": [
        "Considering the inflation equal to 0.044 per year, let's calculate the new capital according to the following funtion *lambda_valor*:"
      ],
      "metadata": {
        "id": "PaZ6jeHli_Gj"
      }
    },
    {
      "cell_type": "code",
      "source": [
        "def lambda_valor(row):\n",
        "  inflacao = 0.044\n",
        "  cap_f = row['accumulated_capital']/(1+inflacao)\n",
        "  for i in range( int(row['time_contribution'])+1):\n",
        "    cap_f = cap_f*(1+inflacao) + (row['annual_contribution_us'] + row['savings_match'])*(1+inflacao)**i\n",
        "\n",
        "  return cap_f"
      ],
      "metadata": {
        "id": "YmLMMvYvRm4y"
      },
      "execution_count": 12,
      "outputs": []
    },
    {
      "cell_type": "code",
      "source": [
        "data['new_accumulated_capital'] = data.apply(lambda row: lambda_valor(row), axis=1)"
      ],
      "metadata": {
        "id": "-b3b36SdMxZB"
      },
      "execution_count": 13,
      "outputs": []
    },
    {
      "cell_type": "code",
      "source": [
        "data.head(3)"
      ],
      "metadata": {
        "colab": {
          "base_uri": "https://localhost:8080/",
          "height": 225
        },
        "id": "knMNv9YtS95t",
        "outputId": "cba408ff-7482-41f9-95b2-8da4b713a9d2"
      },
      "execution_count": 14,
      "outputs": [
        {
          "output_type": "execute_result",
          "data": {
            "text/plain": [
              "   Unnamed: 0  initial_age  weight  family_kind  race  marital_status  \\\n",
              "0           0           57     616            2     1               3   \n",
              "1           1           45     591            1     1               1   \n",
              "2           2           59     613            1     1               1   \n",
              "\n",
              "   accumulated_capital  annual_contribution     income  time_contribution  \\\n",
              "0       -153263.200759                 0.23   42658.02                  8   \n",
              "1        161474.307306                 0.24  248327.61                 20   \n",
              "2         14209.331170                 0.09   24371.94                  6   \n",
              "\n",
              "   annual_contribution_us  savings_match  new_accumulated_capital  \n",
              "0               9811.3446      981.13446            -7.921472e+04  \n",
              "1              59598.6264        0.00000             3.343229e+06  \n",
              "2               2193.4746     1096.73730             4.821944e+04  "
            ],
            "text/html": [
              "\n",
              "  <div id=\"df-e6086882-9572-423b-9b7f-30d5cbfcdf69\">\n",
              "    <div class=\"colab-df-container\">\n",
              "      <div>\n",
              "<style scoped>\n",
              "    .dataframe tbody tr th:only-of-type {\n",
              "        vertical-align: middle;\n",
              "    }\n",
              "\n",
              "    .dataframe tbody tr th {\n",
              "        vertical-align: top;\n",
              "    }\n",
              "\n",
              "    .dataframe thead th {\n",
              "        text-align: right;\n",
              "    }\n",
              "</style>\n",
              "<table border=\"1\" class=\"dataframe\">\n",
              "  <thead>\n",
              "    <tr style=\"text-align: right;\">\n",
              "      <th></th>\n",
              "      <th>Unnamed: 0</th>\n",
              "      <th>initial_age</th>\n",
              "      <th>weight</th>\n",
              "      <th>family_kind</th>\n",
              "      <th>race</th>\n",
              "      <th>marital_status</th>\n",
              "      <th>accumulated_capital</th>\n",
              "      <th>annual_contribution</th>\n",
              "      <th>income</th>\n",
              "      <th>time_contribution</th>\n",
              "      <th>annual_contribution_us</th>\n",
              "      <th>savings_match</th>\n",
              "      <th>new_accumulated_capital</th>\n",
              "    </tr>\n",
              "  </thead>\n",
              "  <tbody>\n",
              "    <tr>\n",
              "      <th>0</th>\n",
              "      <td>0</td>\n",
              "      <td>57</td>\n",
              "      <td>616</td>\n",
              "      <td>2</td>\n",
              "      <td>1</td>\n",
              "      <td>3</td>\n",
              "      <td>-153263.200759</td>\n",
              "      <td>0.23</td>\n",
              "      <td>42658.02</td>\n",
              "      <td>8</td>\n",
              "      <td>9811.3446</td>\n",
              "      <td>981.13446</td>\n",
              "      <td>-7.921472e+04</td>\n",
              "    </tr>\n",
              "    <tr>\n",
              "      <th>1</th>\n",
              "      <td>1</td>\n",
              "      <td>45</td>\n",
              "      <td>591</td>\n",
              "      <td>1</td>\n",
              "      <td>1</td>\n",
              "      <td>1</td>\n",
              "      <td>161474.307306</td>\n",
              "      <td>0.24</td>\n",
              "      <td>248327.61</td>\n",
              "      <td>20</td>\n",
              "      <td>59598.6264</td>\n",
              "      <td>0.00000</td>\n",
              "      <td>3.343229e+06</td>\n",
              "    </tr>\n",
              "    <tr>\n",
              "      <th>2</th>\n",
              "      <td>2</td>\n",
              "      <td>59</td>\n",
              "      <td>613</td>\n",
              "      <td>1</td>\n",
              "      <td>1</td>\n",
              "      <td>1</td>\n",
              "      <td>14209.331170</td>\n",
              "      <td>0.09</td>\n",
              "      <td>24371.94</td>\n",
              "      <td>6</td>\n",
              "      <td>2193.4746</td>\n",
              "      <td>1096.73730</td>\n",
              "      <td>4.821944e+04</td>\n",
              "    </tr>\n",
              "  </tbody>\n",
              "</table>\n",
              "</div>\n",
              "      <button class=\"colab-df-convert\" onclick=\"convertToInteractive('df-e6086882-9572-423b-9b7f-30d5cbfcdf69')\"\n",
              "              title=\"Convert this dataframe to an interactive table.\"\n",
              "              style=\"display:none;\">\n",
              "        \n",
              "  <svg xmlns=\"http://www.w3.org/2000/svg\" height=\"24px\"viewBox=\"0 0 24 24\"\n",
              "       width=\"24px\">\n",
              "    <path d=\"M0 0h24v24H0V0z\" fill=\"none\"/>\n",
              "    <path d=\"M18.56 5.44l.94 2.06.94-2.06 2.06-.94-2.06-.94-.94-2.06-.94 2.06-2.06.94zm-11 1L8.5 8.5l.94-2.06 2.06-.94-2.06-.94L8.5 2.5l-.94 2.06-2.06.94zm10 10l.94 2.06.94-2.06 2.06-.94-2.06-.94-.94-2.06-.94 2.06-2.06.94z\"/><path d=\"M17.41 7.96l-1.37-1.37c-.4-.4-.92-.59-1.43-.59-.52 0-1.04.2-1.43.59L10.3 9.45l-7.72 7.72c-.78.78-.78 2.05 0 2.83L4 21.41c.39.39.9.59 1.41.59.51 0 1.02-.2 1.41-.59l7.78-7.78 2.81-2.81c.8-.78.8-2.07 0-2.86zM5.41 20L4 18.59l7.72-7.72 1.47 1.35L5.41 20z\"/>\n",
              "  </svg>\n",
              "      </button>\n",
              "      \n",
              "  <style>\n",
              "    .colab-df-container {\n",
              "      display:flex;\n",
              "      flex-wrap:wrap;\n",
              "      gap: 12px;\n",
              "    }\n",
              "\n",
              "    .colab-df-convert {\n",
              "      background-color: #E8F0FE;\n",
              "      border: none;\n",
              "      border-radius: 50%;\n",
              "      cursor: pointer;\n",
              "      display: none;\n",
              "      fill: #1967D2;\n",
              "      height: 32px;\n",
              "      padding: 0 0 0 0;\n",
              "      width: 32px;\n",
              "    }\n",
              "\n",
              "    .colab-df-convert:hover {\n",
              "      background-color: #E2EBFA;\n",
              "      box-shadow: 0px 1px 2px rgba(60, 64, 67, 0.3), 0px 1px 3px 1px rgba(60, 64, 67, 0.15);\n",
              "      fill: #174EA6;\n",
              "    }\n",
              "\n",
              "    [theme=dark] .colab-df-convert {\n",
              "      background-color: #3B4455;\n",
              "      fill: #D2E3FC;\n",
              "    }\n",
              "\n",
              "    [theme=dark] .colab-df-convert:hover {\n",
              "      background-color: #434B5C;\n",
              "      box-shadow: 0px 1px 3px 1px rgba(0, 0, 0, 0.15);\n",
              "      filter: drop-shadow(0px 1px 2px rgba(0, 0, 0, 0.3));\n",
              "      fill: #FFFFFF;\n",
              "    }\n",
              "  </style>\n",
              "\n",
              "      <script>\n",
              "        const buttonEl =\n",
              "          document.querySelector('#df-e6086882-9572-423b-9b7f-30d5cbfcdf69 button.colab-df-convert');\n",
              "        buttonEl.style.display =\n",
              "          google.colab.kernel.accessAllowed ? 'block' : 'none';\n",
              "\n",
              "        async function convertToInteractive(key) {\n",
              "          const element = document.querySelector('#df-e6086882-9572-423b-9b7f-30d5cbfcdf69');\n",
              "          const dataTable =\n",
              "            await google.colab.kernel.invokeFunction('convertToInteractive',\n",
              "                                                     [key], {});\n",
              "          if (!dataTable) return;\n",
              "\n",
              "          const docLinkHtml = 'Like what you see? Visit the ' +\n",
              "            '<a target=\"_blank\" href=https://colab.research.google.com/notebooks/data_table.ipynb>data table notebook</a>'\n",
              "            + ' to learn more about interactive tables.';\n",
              "          element.innerHTML = '';\n",
              "          dataTable['output_type'] = 'display_data';\n",
              "          await google.colab.output.renderOutput(dataTable, element);\n",
              "          const docLink = document.createElement('div');\n",
              "          docLink.innerHTML = docLinkHtml;\n",
              "          element.appendChild(docLink);\n",
              "        }\n",
              "      </script>\n",
              "    </div>\n",
              "  </div>\n",
              "  "
            ]
          },
          "metadata": {},
          "execution_count": 14
        }
      ]
    },
    {
      "cell_type": "code",
      "source": [
        "data.to_csv('/content/drive/MyDrive/Colab Notebooks/saving/new_scenario.csv')"
      ],
      "metadata": {
        "id": "QcwRU2V4SV9X"
      },
      "execution_count": 16,
      "outputs": []
    },
    {
      "cell_type": "markdown",
      "source": [
        "### 2) Plot the Weighted Average Retirement Savings Shortfall by Race and Age Cohort.\n",
        "Age Cohorts defined as the following intervals: [35,39), [40,44), 45,49), [50,54), [55,59),[60,64)\n",
        "\n",
        "The Retirement Savings Shortfall is defined as:\n",
        "> Sum of the accumulate of all the persons who had deficits / Total\n",
        "number of persons\n",
        "\n",
        "\n",
        "\n"
      ],
      "metadata": {
        "id": "GRv40HvyPxgq"
      }
    },
    {
      "cell_type": "markdown",
      "source": [
        "Defining the age interval:\n",
        "> Name: initial_age, Length: 47626, dtype: category\n",
        "\n",
        "Categories (6, interval[int64, left]): [[35, 39) < [39, 44) < [44, 50) < [50, 54) < [54, 60) < [60, 64)]"
      ],
      "metadata": {
        "id": "3A_-hX-xAf3J"
      }
    },
    {
      "cell_type": "code",
      "source": [
        "age = pd.cut(data['initial_age'], bins=[35, 39, 44, 50, 54, 60, 64], right=False)\n",
        "data['age_interval'] = age\n"
      ],
      "metadata": {
        "id": "pewEKZRy_hPv"
      },
      "execution_count": 20,
      "outputs": []
    },
    {
      "cell_type": "code",
      "source": [
        "#persons who had deficits\n",
        "data['weight_shortfall_capital'] = np.where(data['accumulated_capital'] < 0, data['weight'], 0)\n",
        "data['weight_shortfall_new_capital'] = np.where(data['new_accumulated_capital'] < 0, data['weight'], 0)\n",
        "\n",
        "#persons who were able to afford its retirement\n",
        "data['weight_readness_capital'] = np.where(data['accumulated_capital'] > 0, data['weight'], 0)\n",
        "data['weight_readness_new_capital'] = np.where(data['new_accumulated_capital'] > 0, data['weight'], 0)"
      ],
      "metadata": {
        "id": "feur9nbKYg9Y"
      },
      "execution_count": 22,
      "outputs": []
    },
    {
      "cell_type": "code",
      "source": [
        "df = data.groupby(['race', 'age_interval'])['weight', 'weight_shortfall_capital', 'weight_shortfall_new_capital', 'weight_readness_capital', 'weight_readness_new_capital'].sum()"
      ],
      "metadata": {
        "colab": {
          "base_uri": "https://localhost:8080/"
        },
        "id": "EyYlGMucV6pW",
        "outputId": "dd851fe8-3911-402e-dd4c-67f27b8ea138"
      },
      "execution_count": 23,
      "outputs": [
        {
          "output_type": "stream",
          "name": "stderr",
          "text": [
            "<ipython-input-23-e9ed7cb4ae71>:1: FutureWarning: Indexing with multiple keys (implicitly converted to a tuple of keys) will be deprecated, use a list instead.\n",
            "  df = data.groupby(['race', 'age_interval'])['weight', 'weight_shortfall_capital', 'weight_shortfall_new_capital', 'weight_readness_capital', 'weight_readness_new_capital'].sum()\n"
          ]
        }
      ]
    },
    {
      "cell_type": "code",
      "source": [
        "retirement_savings_shortfall =pd.to_numeric(df['weight_shortfall_new_capital'])/pd.to_numeric(df['weight'])"
      ],
      "metadata": {
        "id": "oZVbuvk0dsfp"
      },
      "execution_count": 30,
      "outputs": []
    },
    {
      "cell_type": "markdown",
      "source": [
        "● race: 1= White, 2 = Black, 3 = Hispanic, 4 = Other"
      ],
      "metadata": {
        "id": "U-VOsMA1dwZv"
      }
    },
    {
      "cell_type": "code",
      "source": [
        "plot_df = retirement_savings_shortfall.unstack('race')\n",
        "plot_df.plot()"
      ],
      "metadata": {
        "colab": {
          "base_uri": "https://localhost:8080/",
          "height": 467
        },
        "id": "y-P-2EqUdUtw",
        "outputId": "dbf5266e-fb04-4b2e-e654-4779a4704b20"
      },
      "execution_count": 36,
      "outputs": [
        {
          "output_type": "execute_result",
          "data": {
            "text/plain": [
              "<Axes: xlabel='age_interval'>"
            ]
          },
          "metadata": {},
          "execution_count": 36
        },
        {
          "output_type": "display_data",
          "data": {
            "text/plain": [
              "<Figure size 640x480 with 1 Axes>"
            ],
            "image/png": "[encoded data removed]"
          },
          "metadata": {}
        }
      ]
    },
    {
      "cell_type": "markdown",
      "source": [
        "When observing the graph, it becomes evident that the retirement deficit increases as individuals age, and between the ages of 35 and 50, it is higher among individuals of Hispanic ethnicity."
      ],
      "metadata": {
        "id": "88ekOiUle5Sl"
      }
    },
    {
      "cell_type": "markdown",
      "source": [
        "#### 3) Impact in percentage points of the new scenario into the Retirement Readiness Rating, per Age Cohort.\n",
        "\n",
        "The Retirement Readiness Rating is defined as:\n",
        "> Number of persons who were able to afford its retirement / Total\n",
        "number of persons"
      ],
      "metadata": {
        "id": "LQOd35bQK7nA"
      }
    },
    {
      "cell_type": "code",
      "source": [
        "retirement_readiness_rating = pd.to_numeric(df['weight_readness_new_capital'])/pd.to_numeric(df['weight']) - pd.to_numeric(df['weight_readness_capital'])/pd.to_numeric(df['weight'])"
      ],
      "metadata": {
        "id": "dPeVP_0eajhg"
      },
      "execution_count": 26,
      "outputs": []
    },
    {
      "cell_type": "markdown",
      "source": [
        "● race: 1= White, 2 = Black, 3 = Hispanic, 4 = Other"
      ],
      "metadata": {
        "id": "EN93Pm3K5qAf"
      }
    },
    {
      "cell_type": "code",
      "source": [
        "plot_df = retirement_readiness_rating.unstack('race')\n",
        "plot_df.plot()"
      ],
      "metadata": {
        "colab": {
          "base_uri": "https://localhost:8080/",
          "height": 467
        },
        "id": "8SiGvreddXZ9",
        "outputId": "cd5ffe55-2780-4f02-811f-f533f8e697b6"
      },
      "execution_count": 27,
      "outputs": [
        {
          "output_type": "execute_result",
          "data": {
            "text/plain": [
              "<Axes: xlabel='age_interval'>"
            ]
          },
          "metadata": {},
          "execution_count": 27
        },
        {
          "output_type": "display_data",
          "data": {
            "text/plain": [
              "<Figure size 640x480 with 1 Axes>"
            ],
            "image/png": "[encoded data removed]"
          },
          "metadata": {}
        }
      ]
    },
    {
      "cell_type": "markdown",
      "source": [
        "Upon examining the graph, it is evident that in the new scenario, there would be an increase in the number of people retiring, approximately 30 to 35%, among individuals of Hispanic and African-American ethnicity who are between the ages of 35 and 44. Conversely, individuals of white and other ethnicities would experience a lesser impact."
      ],
      "metadata": {
        "id": "hhmQvdfjigFw"
      }
    }
  ]
}